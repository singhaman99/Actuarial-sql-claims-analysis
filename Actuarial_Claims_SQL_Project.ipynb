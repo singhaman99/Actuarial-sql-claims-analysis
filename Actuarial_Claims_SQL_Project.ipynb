
{
 "cells": [
  {
   "cell_type": "markdown",
   "metadata": {},
   "source": [
    "# 🧮 Actuarial SQL Project: Insurance Claims Summary & Renewal Analysis"
   ]
  },
  {
   "cell_type": "code",
   "execution_count": null,
   "metadata": {},
   "outputs": [],
   "source": [
    "!pip install faker"
   ]
  },
  {
   "cell_type": "code",
   "execution_count": null,
   "metadata": {},
   "outputs": [],
   "source": [
    "import pandas as pd\n",
    "import sqlite3\n",
    "from faker import Faker\n",
    "import random\n",
    "\n",
    "fake = Faker()\n",
    "conn = sqlite3.connect(\"actuarial_claims.db\")"
   ]
  },
  {
   "cell_type": "code",
   "execution_count": null,
   "metadata": {},
   "outputs": [],
   "source": [
    "# Generate Policyholders\n",
    "policyholders = []\n",
    "for i in range(1, 21):\n",
    "    policyholders.append({\n",
    "        \"policyholder_id\": i,\n",
    "        \"name\": fake.name(),\n",
    "        \"age\": random.randint(25, 65),\n",
    "        \"gender\": random.choice(['M', 'F']),\n",
    "        \"policy_type\": random.choice(['Health', 'Life', 'Auto']),\n",
    "        \"region\": random.choice(['North', 'South', 'East', 'West'])\n",
    "    })\n",
    "pd.DataFrame(policyholders).to_sql(\"Policyholders\", conn, if_exists=\"replace\", index=False)"
   ]
  },
  {
   "cell_type": "code",
   "execution_count": null,
   "metadata": {},
   "outputs": [],
   "source": [
    "# Generate Claims\n",
    "claims = []\n",
    "for i in range(1, 41):\n",
    "    claims.append({\n",
    "        \"claim_id\": f\"C{i:03}\",\n",
    "        \"policyholder_id\": random.randint(1, 20),\n",
    "        \"claim_date\": fake.date_between(start_date='-2y', end_date='today'),\n",
    "        \"claim_amount\": round(random.uniform(1000, 100000), 2),\n",
    "        \"claim_type\": random.choice(['Hospital', 'Death', 'Repair', 'Surgery']),\n",
    "        \"status\": random.choice(['Approved', 'Settled', 'Rejected', 'Pending'])\n",
    "    })\n",
    "pd.DataFrame(claims).to_sql(\"Claims\", conn, if_exists=\"replace\", index=False)"
   ]
  },
  {
   "cell_type": "code",
   "execution_count": null,
   "metadata": {},
   "outputs": [],
   "source": [
    "# Generate Renewals\n",
    "renewals = []\n",
    "for i in range(1, 21):\n",
    "    renewals.append({\n",
    "        \"policyholder_id\": i,\n",
    "        \"renewal_date\": fake.date_between(start_date='-1y', end_date='today'),\n",
    "        \"renewed\": random.choice(['Yes', 'No'])\n",
    "    })\n",
    "pd.DataFrame(renewals).to_sql(\"Renewals\", conn, if_exists=\"replace\", index=False)"
   ]
  }
 ],
 "metadata": {
  "kernelspec": {
   "display_name": "Python 3",
   "language": "python",
   "name": "python3"
  },
  "language_info": {
   "name": "python",
   "version": ""
  }
 },
 "nbformat": 4,
 "nbformat_minor": 2
}
